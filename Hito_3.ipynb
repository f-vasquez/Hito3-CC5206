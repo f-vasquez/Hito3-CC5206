{
 "cells": [
  {
   "cell_type": "markdown",
   "metadata": {},
   "source": [
    "# Big Five Personalities"
   ]
  },
  {
   "cell_type": "markdown",
   "metadata": {},
   "source": [
    "blablabla"
   ]
  },
  {
   "cell_type": "markdown",
   "metadata": {},
   "source": [
    "# Previos"
   ]
  },
  {
   "cell_type": "markdown",
   "metadata": {},
   "source": [
    "## Importación de Librerías"
   ]
  },
  {
   "cell_type": "code",
   "execution_count": null,
   "metadata": {
    "ExecuteTime": {
     "end_time": "2020-07-19T02:21:46.541297Z",
     "start_time": "2020-07-19T02:21:44.385681Z"
    }
   },
   "outputs": [],
   "source": [
    "from sklearn.cluster import KMeans \n",
    "from sklearn import metrics\n",
    "from sklearn import cluster, datasets\n",
    "from sklearn.metrics import silhouette_samples, silhouette_score\n",
    "\n",
    "import numpy as np \n",
    "import matplotlib.pyplot as plt\n",
    "import seaborn as sns\n",
    "import pandas as pd\n",
    "\n",
    "import sklearn\n",
    "from sklearn.preprocessing import StandardScaler\n",
    "from sklearn.decomposition import PCA\n",
    "\n",
    "import matplotlib.patches as mpatches"
   ]
  },
  {
   "cell_type": "markdown",
   "metadata": {},
   "source": [
    "## Parámetros generales"
   ]
  },
  {
   "cell_type": "code",
   "execution_count": null,
   "metadata": {
    "ExecuteTime": {
     "end_time": "2020-07-19T02:21:46.573301Z",
     "start_time": "2020-07-19T02:21:46.544303Z"
    }
   },
   "outputs": [],
   "source": [
    "#Parámetros para mejorar la visualización de los dataframes\n",
    "pd.set_option('display.max_rows', 50)\n",
    "pd.set_option('display.max_columns', 500)\n",
    "pd.set_option('display.width', 50)\n",
    "\n",
    "# Parámetros para gráficos\n",
    "plt.style.use('seaborn')\n",
    "\n",
    "plt.rcParams.update({'font.size': 25})      \n",
    "plt.rc('axes', labelsize=20)\n",
    "plt.rc('legend', fontsize=18)  \n",
    "plt.rc('xtick', labelsize=20) \n",
    "plt.rc('ytick', labelsize=20) \n",
    "plt.rcParams['axes.titlesize'] = 25\n",
    "plt.rcParams[\"figure.figsize\"] = (15,6)"
   ]
  },
  {
   "cell_type": "markdown",
   "metadata": {},
   "source": [
    "# Big Five"
   ]
  },
  {
   "cell_type": "code",
   "execution_count": null,
   "metadata": {
    "ExecuteTime": {
     "end_time": "2020-07-19T02:22:04.442655Z",
     "start_time": "2020-07-19T02:21:46.578302Z"
    }
   },
   "outputs": [],
   "source": [
    "df = pd.read_csv('data_final.csv', sep = '\\t')"
   ]
  },
  {
   "cell_type": "markdown",
   "metadata": {},
   "source": [
    "Eliminamos datos con NAN"
   ]
  },
  {
   "cell_type": "code",
   "execution_count": null,
   "metadata": {
    "ExecuteTime": {
     "end_time": "2020-07-19T02:22:06.078649Z",
     "start_time": "2020-07-19T02:22:04.447660Z"
    }
   },
   "outputs": [],
   "source": [
    "df = df.dropna()"
   ]
  },
  {
   "cell_type": "markdown",
   "metadata": {},
   "source": [
    "Eliminamos columnas que no se utilizarán, por ahora"
   ]
  },
  {
   "cell_type": "code",
   "execution_count": null,
   "metadata": {
    "ExecuteTime": {
     "end_time": "2020-07-19T02:22:08.043516Z",
     "start_time": "2020-07-19T02:22:06.081634Z"
    }
   },
   "outputs": [],
   "source": [
    "try:\n",
    "    del df['dateload']\n",
    "    del df['screenw']\n",
    "    del df['screenh']\n",
    "    del df['introelapse']\n",
    "    del df['testelapse']\n",
    "    del df['endelapse']\n",
    "    del df['IPC']\n",
    "    del df['country']\n",
    "    del df['lat_appx_lots_of_err']\n",
    "    del df['long_appx_lots_of_err']\n",
    "except:\n",
    "    pass"
   ]
  },
  {
   "cell_type": "markdown",
   "metadata": {},
   "source": [
    "Filtramos los datos que tengan algún cero en sus respuestas"
   ]
  },
  {
   "cell_type": "code",
   "execution_count": null,
   "metadata": {
    "ExecuteTime": {
     "end_time": "2020-07-19T02:22:38.149010Z",
     "start_time": "2020-07-19T02:22:08.043516Z"
    }
   },
   "outputs": [],
   "source": [
    "for i in range(0,50):\n",
    "    col = df.columns[i]\n",
    "    df = df.loc[df[col]!=0]"
   ]
  },
  {
   "cell_type": "markdown",
   "metadata": {},
   "source": [
    "Pasamos el tiempo de respuesta a segundos"
   ]
  },
  {
   "cell_type": "code",
   "execution_count": null,
   "metadata": {
    "ExecuteTime": {
     "end_time": "2020-07-19T02:22:38.818024Z",
     "start_time": "2020-07-19T02:22:38.153007Z"
    }
   },
   "outputs": [],
   "source": [
    "df.loc[:, 'EXT1_E': 'OPN10_E'] = df.loc[:, 'EXT1_E': 'OPN10_E']/1000"
   ]
  },
  {
   "cell_type": "markdown",
   "metadata": {},
   "source": [
    "# EDA"
   ]
  },
  {
   "cell_type": "markdown",
   "metadata": {},
   "source": [
    "## Primer Area de Preguntas"
   ]
  },
  {
   "cell_type": "markdown",
   "metadata": {},
   "source": [
    "### Respuestas a preguntas"
   ]
  },
  {
   "cell_type": "code",
   "execution_count": null,
   "metadata": {
    "ExecuteTime": {
     "end_time": "2020-07-19T02:22:39.122008Z",
     "start_time": "2020-07-19T02:22:38.823006Z"
    }
   },
   "outputs": [],
   "source": [
    "EXT_count = df.loc[:, 'EXT1':'EXT10'].apply(pd.value_counts)\n",
    "print('Tabla de conteo de respuestas para cada pregunta')\n",
    "display(EXT_count)"
   ]
  },
  {
   "cell_type": "code",
   "execution_count": null,
   "metadata": {
    "ExecuteTime": {
     "end_time": "2020-07-19T02:22:40.039202Z",
     "start_time": "2020-07-19T02:22:39.127007Z"
    }
   },
   "outputs": [],
   "source": [
    "fig, ax = plt.subplots()\n",
    "sns.heatmap(EXT_count.apply(lambda x: x/x.sum(), axis = 0), annot = True, cmap = 'Blues',\n",
    "           fmt = '.1g', linewidths = .01)\n",
    "plt.title('Heatmap escalado por cantidad de respuestas a cada pregunta')\n",
    "plt.show()"
   ]
  },
  {
   "cell_type": "markdown",
   "metadata": {},
   "source": [
    "### Tiempos de respuestas"
   ]
  },
  {
   "cell_type": "code",
   "execution_count": null,
   "metadata": {
    "ExecuteTime": {
     "end_time": "2020-07-19T02:22:40.087198Z",
     "start_time": "2020-07-19T02:22:40.043200Z"
    }
   },
   "outputs": [],
   "source": [
    "print('Tiempos promedios en respuestas de las preguntas')\n",
    "df.loc[:, 'EXT1_E':'EXT10_E'].mean(axis = 0)"
   ]
  },
  {
   "cell_type": "code",
   "execution_count": null,
   "metadata": {
    "ExecuteTime": {
     "end_time": "2020-07-19T02:22:40.696220Z",
     "start_time": "2020-07-19T02:22:40.090198Z"
    }
   },
   "outputs": [],
   "source": [
    "# Tiempos de respuestas promedios por respuesta a cada pregunta\n",
    "tiempos_ext = pd.DataFrame(index = range(1,6))\n",
    "for i in range(1,11):\n",
    "    tiempos_ext[f'EXT{i}_T'] = df[[f'EXT{i}', f'EXT{i}_E']].groupby(f'EXT{i}').mean()[f'EXT{i}_E']"
   ]
  },
  {
   "cell_type": "code",
   "execution_count": null,
   "metadata": {
    "ExecuteTime": {
     "end_time": "2020-07-19T02:22:41.444212Z",
     "start_time": "2020-07-19T02:22:40.699210Z"
    }
   },
   "outputs": [],
   "source": [
    "fig, ax = plt.subplots()\n",
    "sns.heatmap(tiempos_ext, annot = True, cmap = 'Blues',\n",
    "           fmt = '.3g', linewidths = .01)\n",
    "plt.title('Tiempo promedio gastado en responder cada pregunta')\n",
    "plt.show()"
   ]
  },
  {
   "cell_type": "code",
   "execution_count": null,
   "metadata": {
    "ExecuteTime": {
     "end_time": "2020-07-19T02:22:42.083216Z",
     "start_time": "2020-07-19T02:22:41.448215Z"
    }
   },
   "outputs": [],
   "source": [
    "fig, ax = plt.subplots()\n",
    "sns.heatmap(tiempos_ext.loc[:, 'EXT2_T':'EXT10_T'], annot = True, cmap = 'Blues',\n",
    "           fmt = '.3g', linewidths = .01)\n",
    "plt.title('Tiempo promedio gastado en responder cada pregunta')\n",
    "plt.show()"
   ]
  },
  {
   "cell_type": "markdown",
   "metadata": {},
   "source": [
    "# Trabajo con las respuestas"
   ]
  },
  {
   "cell_type": "code",
   "execution_count": null,
   "metadata": {
    "ExecuteTime": {
     "end_time": "2020-07-19T02:22:42.115217Z",
     "start_time": "2020-07-19T02:22:42.087211Z"
    }
   },
   "outputs": [],
   "source": [
    "cat_quest = {\n",
    "            'EXT1': 1, 'EXT2': -1, 'EXT3': 1, 'EXT4': -1, 'EXT5': 1,\n",
    "            'EXT6': -1, 'EXT7': 1, 'EXT8': -1, 'EXT9': 1, 'EXT10': -1,\n",
    "            'EST1':-1, 'EST2':1, 'EST3':-1, 'EST4':1, 'EST5':-1,\n",
    "            'EST6':-1, 'EST7':-1, 'EST8':-1, 'EST9':-1, 'EST10':-1,\n",
    "            'AGR1':-1, 'AGR2':1, 'AGR3':-1, 'AGR4':1, 'AGR5':-1,\n",
    "            'AGR6':1, 'AGR7':-1, 'AGR8':1, 'AGR9':1, 'AGR10':1,\n",
    "            'CSN1':1, 'CSN2':-1, 'CSN3':1, 'CSN4':-1, 'CSN5':1,\n",
    "            'CSN6':-1, 'CSN7':1, 'CSN8':-1, 'CSN9':-1, 'CSN10':1,\n",
    "            'OPN1':1, 'OPN2':-1, 'OPN3':1, 'OPN4':-1, 'OPN5':1,\n",
    "            'OPN6':-1, 'OPN7':1, 'OPN8':1, 'OPN9':1, 'OPN10':1\n",
    "        }"
   ]
  },
  {
   "cell_type": "markdown",
   "metadata": {},
   "source": [
    "Normalización de las respuestas a -1,0,1 e inversión en la respuesta"
   ]
  },
  {
   "cell_type": "code",
   "execution_count": null,
   "metadata": {
    "ExecuteTime": {
     "end_time": "2020-07-19T02:22:43.552211Z",
     "start_time": "2020-07-19T02:22:42.121215Z"
    }
   },
   "outputs": [],
   "source": [
    "for col in cat_quest.keys():\n",
    "    df[col] = (df[col]-3)/2 # Normalización a -1.0.1\n",
    "    df[col] = df[col]*cat_quest[col] # Inversión de la escala"
   ]
  },
  {
   "cell_type": "markdown",
   "metadata": {
    "ExecuteTime": {
     "end_time": "2020-07-19T02:19:46.140806Z",
     "start_time": "2020-07-19T02:19:45.435803Z"
    }
   },
   "source": [
    "# PCA"
   ]
  },
  {
   "cell_type": "code",
   "execution_count": null,
   "metadata": {
    "ExecuteTime": {
     "end_time": "2020-07-19T02:22:43.728212Z",
     "start_time": "2020-07-19T02:22:43.555212Z"
    }
   },
   "outputs": [],
   "source": [
    "df_quest = df.loc[:, 'EXT1':'OPN10'].copy()"
   ]
  },
  {
   "cell_type": "code",
   "execution_count": null,
   "metadata": {
    "ExecuteTime": {
     "end_time": "2020-07-19T02:22:43.840213Z",
     "start_time": "2020-07-19T02:22:43.731213Z"
    }
   },
   "outputs": [],
   "source": [
    "df_quest.head()"
   ]
  },
  {
   "cell_type": "markdown",
   "metadata": {},
   "source": [
    "## Función Auxiliar"
   ]
  },
  {
   "cell_type": "code",
   "execution_count": null,
   "metadata": {
    "ExecuteTime": {
     "end_time": "2020-07-19T02:33:31.973237Z",
     "start_time": "2020-07-19T02:33:31.948238Z"
    }
   },
   "outputs": [],
   "source": [
    "def predic_kmeans_plot(dataset, ncluster):\n",
    "    \n",
    "    kmeans = KMeans(n_clusters = ncluster, random_state=1)\n",
    "    kmeans.fit(dataset)\n",
    "    cluster_pred = kmeans.fit_predict(dataset)\n",
    "    \n",
    "    pca = PCA(n_components=dataset.shape[1])\n",
    "    pca_result = pca.fit_transform(dataset)\n",
    "    suma = np.cumsum(pca.explained_variance_ratio_)\n",
    "    pca_data = pca.transform(dataset)\n",
    "    \n",
    "    per_var = np.round(pca.explained_variance_ratio_* 100, decimals=1)\n",
    "    labels = ['PC' + str(x) for x in range(1, len(per_var)+1)]\n",
    "    \n",
    "    pca_df = pd.DataFrame(pca_data, columns=labels)\n",
    "    \n",
    "    pca_df['Cluster'] = cluster_pred\n",
    "    for i in range(0,ncluster):\n",
    "        pca_df.loc[pca_df.Cluster == i,'Cluster'] = 'Cluster {}'.format(i)\n",
    "\n",
    "    fig, ax = plt.subplots()\n",
    "    \n",
    "    sns.scatterplot(pca_df.PC1, pca_df.PC2, hue = pca_df['Cluster'])\n",
    "    \n",
    "    plt.title('ACP aplicado a todos los datos',fontsize=30)\n",
    "    plt.xlabel('PC1 - Var. Exp.: {0}%'.format(per_var[0]),fontsize=25)\n",
    "    plt.ylabel('PC2 - Var. Exp.: {0}%'.format(per_var[1]),fontsize=25)\n",
    "    plt.show()\n",
    "    return pca_df['Cluster']"
   ]
  },
  {
   "cell_type": "code",
   "execution_count": null,
   "metadata": {
    "ExecuteTime": {
     "end_time": "2020-07-19T02:29:34.749850Z",
     "start_time": "2020-07-19T02:29:34.700861Z"
    }
   },
   "outputs": [],
   "source": [
    "def PCA_apply(df):\n",
    "    standard_datos = StandardScaler().fit(df)\n",
    "    datos_norm = standard_datos.transform(df)\n",
    "    pca = PCA(n_components=12)\n",
    "    pca_result = pca.fit_transform(datos_norm)\n",
    "    suma = np.cumsum(pca.explained_variance_ratio_)\n",
    "    pca_data = pca.transform(datos_norm)\n",
    "    \n",
    "    plt.rcParams['figure.figsize'] = (15,8)\n",
    "\n",
    "    per_var = np.round(pca.explained_variance_ratio_* 100, decimals=1)\n",
    "    labels = ['PC' + str(x) for x in range(1, len(per_var)+1)]\n",
    "    \n",
    "    fig, ax = plt.subplots()\n",
    "    pca_df = pd.DataFrame(pca_data, index=df.index, columns=labels)\n",
    "    ax.scatter(pca_df.PC1, pca_df.PC2)\n",
    "    plt.title('ACP aplicado a todos los datos',fontsize=30)\n",
    "    plt.xlabel('PC1 - Var. Exp.: {0}%'.format(per_var[0]),fontsize=25)\n",
    "    plt.ylabel('PC2 - Var. Exp.: {0}%'.format(per_var[1]),fontsize=25)\n",
    "\n",
    "    plt.show()\n",
    "    \n",
    "    fig, ax = plt.subplots()\n",
    "    df_pca_componentes = pd.DataFrame(pca.components_, columns = df.columns).T\n",
    "    \n",
    "    X = list(df_pca_componentes[0])\n",
    "    Y = list(df_pca_componentes[1])\n",
    "    nombres = df_pca_componentes.index\n",
    "    \n",
    "    for i, type in enumerate(nombres):\n",
    "        x = X[i]\n",
    "        y = Y[i]\n",
    "        plt.scatter(x, y , marker = 'o')\n",
    "        plt.text(x,y+0.01,type, fontsize = 17)\n",
    "    \n",
    "    plt.title('Contribución de Variables a Primeras 2 Componentes',fontsize=30)\n",
    "    plt.xlabel('PC1 - Var. Exp.: {0}%'.format(per_var[0]),fontsize=25)\n",
    "    plt.ylabel('PC2 - Var. Exp.: {0}%'.format(per_var[1]),fontsize=25)\n",
    "\n",
    "    plt.axhline(y = 0, alpha = 1)\n",
    "    plt.axvline(x = 0, alpha = 1)\n",
    "    plt.rcParams['figure.figsize'] = (15,8)\n",
    "\n",
    "    plt.tight_layout()\n",
    "    plt.show()\n",
    "    return pca"
   ]
  },
  {
   "cell_type": "code",
   "execution_count": null,
   "metadata": {
    "ExecuteTime": {
     "end_time": "2020-07-19T02:26:52.399171Z",
     "start_time": "2020-07-19T02:26:31.649385Z"
    }
   },
   "outputs": [],
   "source": [
    "pca_quest = PCA_apply(df_quest)"
   ]
  },
  {
   "cell_type": "code",
   "execution_count": null,
   "metadata": {
    "ExecuteTime": {
     "end_time": "2020-07-19T02:40:47.997065Z",
     "start_time": "2020-07-19T02:33:53.332163Z"
    }
   },
   "outputs": [],
   "source": [
    "cluster_kmeans = predic_kmeans_plot(df_quest, 5)"
   ]
  },
  {
   "cell_type": "code",
   "execution_count": null,
   "metadata": {},
   "outputs": [],
   "source": []
  }
 ],
 "metadata": {
  "kernelspec": {
   "display_name": "Python 3",
   "language": "python",
   "name": "python3"
  },
  "language_info": {
   "codemirror_mode": {
    "name": "ipython",
    "version": 3
   },
   "file_extension": ".py",
   "mimetype": "text/x-python",
   "name": "python",
   "nbconvert_exporter": "python",
   "pygments_lexer": "ipython3",
   "version": "3.7.6"
  },
  "toc": {
   "base_numbering": 1,
   "nav_menu": {},
   "number_sections": true,
   "sideBar": true,
   "skip_h1_title": false,
   "title_cell": "Table of Contents",
   "title_sidebar": "Contents",
   "toc_cell": false,
   "toc_position": {
    "height": "calc(100% - 180px)",
    "left": "10px",
    "top": "150px",
    "width": "239.306px"
   },
   "toc_section_display": true,
   "toc_window_display": true
  },
  "varInspector": {
   "cols": {
    "lenName": 16,
    "lenType": 16,
    "lenVar": 40
   },
   "kernels_config": {
    "python": {
     "delete_cmd_postfix": "",
     "delete_cmd_prefix": "del ",
     "library": "var_list.py",
     "varRefreshCmd": "print(var_dic_list())"
    },
    "r": {
     "delete_cmd_postfix": ") ",
     "delete_cmd_prefix": "rm(",
     "library": "var_list.r",
     "varRefreshCmd": "cat(var_dic_list()) "
    }
   },
   "types_to_exclude": [
    "module",
    "function",
    "builtin_function_or_method",
    "instance",
    "_Feature"
   ],
   "window_display": false
  }
 },
 "nbformat": 4,
 "nbformat_minor": 4
}
