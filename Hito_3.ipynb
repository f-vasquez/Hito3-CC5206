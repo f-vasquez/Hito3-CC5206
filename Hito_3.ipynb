{
 "cells": [
  {
   "cell_type": "markdown",
   "metadata": {},
   "source": [
    "# Big Five Personalities"
   ]
  },
  {
   "cell_type": "markdown",
   "metadata": {},
   "source": [
    "blablabla"
   ]
  },
  {
   "cell_type": "markdown",
   "metadata": {},
   "source": [
    "# Previos"
   ]
  },
  {
   "cell_type": "markdown",
   "metadata": {},
   "source": [
    "## Importación de Librerías"
   ]
  },
  {
   "cell_type": "code",
   "execution_count": null,
   "metadata": {
    "ExecuteTime": {
     "end_time": "2020-07-19T21:57:18.627703Z",
     "start_time": "2020-07-19T21:56:54.957119Z"
    }
   },
   "outputs": [],
   "source": [
    "from sklearn.cluster import KMeans \n",
    "from sklearn import metrics\n",
    "from sklearn import cluster, datasets\n",
    "from sklearn.metrics import silhouette_samples, silhouette_score\n",
    "\n",
    "import numpy as np \n",
    "import matplotlib.pyplot as plt\n",
    "import seaborn as sns\n",
    "import pandas as pd\n",
    "\n",
    "import sklearn\n",
    "from sklearn.preprocessing import StandardScaler\n",
    "from sklearn.decomposition import PCA\n",
    "\n",
    "import matplotlib.patches as mpatches"
   ]
  },
  {
   "cell_type": "markdown",
   "metadata": {},
   "source": [
    "## Parámetros generales"
   ]
  },
  {
   "cell_type": "code",
   "execution_count": null,
   "metadata": {
    "ExecuteTime": {
     "end_time": "2020-07-19T21:57:18.691649Z",
     "start_time": "2020-07-19T21:57:18.668645Z"
    }
   },
   "outputs": [],
   "source": [
    "#Parámetros para mejorar la visualización de los dataframes\n",
    "pd.set_option('display.max_rows', 50)\n",
    "pd.set_option('display.max_columns', 500)\n",
    "pd.set_option('display.width', 50)\n",
    "\n",
    "# Parámetros para gráficos\n",
    "plt.style.use('seaborn')\n",
    "\n",
    "plt.rcParams.update({'font.size': 25})      \n",
    "plt.rc('axes', labelsize=20)\n",
    "plt.rc('legend', fontsize=18)  \n",
    "plt.rc('xtick', labelsize=20) \n",
    "plt.rc('ytick', labelsize=20) \n",
    "plt.rcParams['axes.titlesize'] = 25\n",
    "plt.rcParams[\"figure.figsize\"] = (15,6)"
   ]
  },
  {
   "cell_type": "markdown",
   "metadata": {},
   "source": [
    "# Big Five"
   ]
  },
  {
   "cell_type": "code",
   "execution_count": null,
   "metadata": {
    "ExecuteTime": {
     "end_time": "2020-07-19T21:57:52.202554Z",
     "start_time": "2020-07-19T21:57:26.636878Z"
    }
   },
   "outputs": [],
   "source": [
    "df = pd.read_csv('data\\data_final.csv', sep = '\\t')"
   ]
  },
  {
   "cell_type": "markdown",
   "metadata": {},
   "source": [
    "Eliminamos datos con NAN"
   ]
  },
  {
   "cell_type": "code",
   "execution_count": null,
   "metadata": {
    "ExecuteTime": {
     "end_time": "2020-07-19T21:58:05.628651Z",
     "start_time": "2020-07-19T21:58:04.039642Z"
    }
   },
   "outputs": [],
   "source": [
    "df = df.dropna()"
   ]
  },
  {
   "cell_type": "markdown",
   "metadata": {},
   "source": [
    "Eliminamos columnas que no se utilizarán, por ahora"
   ]
  },
  {
   "cell_type": "code",
   "execution_count": null,
   "metadata": {
    "ExecuteTime": {
     "end_time": "2020-07-19T21:58:08.142344Z",
     "start_time": "2020-07-19T21:58:06.334337Z"
    }
   },
   "outputs": [],
   "source": [
    "try:\n",
    "    del df['dateload']\n",
    "    del df['screenw']\n",
    "    del df['screenh']\n",
    "    del df['introelapse']\n",
    "    del df['testelapse']\n",
    "    del df['endelapse']\n",
    "    del df['IPC']\n",
    "    del df['country']\n",
    "    del df['lat_appx_lots_of_err']\n",
    "    del df['long_appx_lots_of_err']\n",
    "except:\n",
    "    pass"
   ]
  },
  {
   "cell_type": "markdown",
   "metadata": {},
   "source": [
    "Filtramos los datos que tengan algún cero en sus respuestas"
   ]
  },
  {
   "cell_type": "code",
   "execution_count": null,
   "metadata": {
    "ExecuteTime": {
     "end_time": "2020-07-19T21:58:41.575068Z",
     "start_time": "2020-07-19T21:58:09.247755Z"
    }
   },
   "outputs": [],
   "source": [
    "for i in range(0,50):\n",
    "    col = df.columns[i]\n",
    "    df = df.loc[df[col]!=0]"
   ]
  },
  {
   "cell_type": "markdown",
   "metadata": {},
   "source": [
    "Pasamos el tiempo de respuesta a segundos"
   ]
  },
  {
   "cell_type": "code",
   "execution_count": null,
   "metadata": {
    "ExecuteTime": {
     "end_time": "2020-07-19T21:58:42.960641Z",
     "start_time": "2020-07-19T21:58:41.822070Z"
    }
   },
   "outputs": [],
   "source": [
    "df.loc[:, 'EXT1_E': 'OPN10_E'] = df.loc[:, 'EXT1_E': 'OPN10_E']/1000"
   ]
  },
  {
   "cell_type": "markdown",
   "metadata": {},
   "source": [
    "# EDA"
   ]
  },
  {
   "cell_type": "markdown",
   "metadata": {},
   "source": [
    "## Primer Area de Preguntas"
   ]
  },
  {
   "cell_type": "markdown",
   "metadata": {},
   "source": [
    "### Respuestas a preguntas"
   ]
  },
  {
   "cell_type": "code",
   "execution_count": null,
   "metadata": {
    "ExecuteTime": {
     "end_time": "2020-07-19T21:58:43.503641Z",
     "start_time": "2020-07-19T21:58:43.188642Z"
    }
   },
   "outputs": [],
   "source": [
    "EXT_count = df.loc[:, 'EXT1':'EXT10'].apply(pd.value_counts)\n",
    "print('Tabla de conteo de respuestas para cada pregunta')\n",
    "display(EXT_count)"
   ]
  },
  {
   "cell_type": "code",
   "execution_count": null,
   "metadata": {
    "ExecuteTime": {
     "end_time": "2020-07-19T21:58:45.241639Z",
     "start_time": "2020-07-19T21:58:43.954644Z"
    }
   },
   "outputs": [],
   "source": [
    "fig, ax = plt.subplots()\n",
    "sns.heatmap(EXT_count.apply(lambda x: x/x.sum(), axis = 0), annot = True, cmap = 'Blues',\n",
    "           fmt = '.1g', linewidths = .01)\n",
    "plt.title('Heatmap escalado por cantidad de respuestas a cada pregunta')\n",
    "plt.show()"
   ]
  },
  {
   "cell_type": "markdown",
   "metadata": {},
   "source": [
    "### Tiempos de respuestas"
   ]
  },
  {
   "cell_type": "code",
   "execution_count": null,
   "metadata": {
    "ExecuteTime": {
     "end_time": "2020-07-19T21:58:45.576644Z",
     "start_time": "2020-07-19T21:58:45.549641Z"
    }
   },
   "outputs": [],
   "source": [
    "print('Tiempos promedios en respuestas de las preguntas')\n",
    "df.loc[:, 'EXT1_E':'EXT10_E'].mean(axis = 0)"
   ]
  },
  {
   "cell_type": "code",
   "execution_count": null,
   "metadata": {
    "ExecuteTime": {
     "end_time": "2020-07-19T21:58:46.550695Z",
     "start_time": "2020-07-19T21:58:45.835643Z"
    }
   },
   "outputs": [],
   "source": [
    "# Tiempos de respuestas promedios por respuesta a cada pregunta\n",
    "tiempos_ext = pd.DataFrame(index = range(1,6))\n",
    "for i in range(1,11):\n",
    "    tiempos_ext[f'EXT{i}_T'] = df[[f'EXT{i}', f'EXT{i}_E']].groupby(f'EXT{i}').mean()[f'EXT{i}_E']"
   ]
  },
  {
   "cell_type": "code",
   "execution_count": null,
   "metadata": {
    "ExecuteTime": {
     "end_time": "2020-07-19T21:58:47.698803Z",
     "start_time": "2020-07-19T21:58:46.906806Z"
    }
   },
   "outputs": [],
   "source": [
    "fig, ax = plt.subplots()\n",
    "sns.heatmap(tiempos_ext, annot = True, cmap = 'Blues',\n",
    "           fmt = '.3g', linewidths = .01)\n",
    "plt.title('Tiempo promedio gastado en responder cada pregunta')\n",
    "plt.show()"
   ]
  },
  {
   "cell_type": "code",
   "execution_count": null,
   "metadata": {
    "ExecuteTime": {
     "end_time": "2020-07-19T21:58:48.767805Z",
     "start_time": "2020-07-19T21:58:48.021806Z"
    }
   },
   "outputs": [],
   "source": [
    "fig, ax = plt.subplots()\n",
    "sns.heatmap(tiempos_ext.loc[:, 'EXT2_T':'EXT10_T'], annot = True, cmap = 'Blues',\n",
    "           fmt = '.3g', linewidths = .01)\n",
    "plt.title('Tiempo promedio gastado en responder cada pregunta')\n",
    "plt.show()"
   ]
  },
  {
   "cell_type": "markdown",
   "metadata": {},
   "source": [
    "# Trabajo con las respuestas"
   ]
  },
  {
   "cell_type": "code",
   "execution_count": null,
   "metadata": {
    "ExecuteTime": {
     "end_time": "2020-07-19T21:58:49.115907Z",
     "start_time": "2020-07-19T21:58:49.086802Z"
    }
   },
   "outputs": [],
   "source": [
    "cat_quest = {\n",
    "            'EXT1': 1, 'EXT2': -1, 'EXT3': 1, 'EXT4': -1, 'EXT5': 1,\n",
    "            'EXT6': -1, 'EXT7': 1, 'EXT8': -1, 'EXT9': 1, 'EXT10': -1,\n",
    "            'EST1':-1, 'EST2':1, 'EST3':-1, 'EST4':1, 'EST5':-1,\n",
    "            'EST6':-1, 'EST7':-1, 'EST8':-1, 'EST9':-1, 'EST10':-1,\n",
    "            'AGR1':-1, 'AGR2':1, 'AGR3':-1, 'AGR4':1, 'AGR5':-1,\n",
    "            'AGR6':1, 'AGR7':-1, 'AGR8':1, 'AGR9':1, 'AGR10':1,\n",
    "            'CSN1':1, 'CSN2':-1, 'CSN3':1, 'CSN4':-1, 'CSN5':1,\n",
    "            'CSN6':-1, 'CSN7':1, 'CSN8':-1, 'CSN9':-1, 'CSN10':1,\n",
    "            'OPN1':1, 'OPN2':-1, 'OPN3':1, 'OPN4':-1, 'OPN5':1,\n",
    "            'OPN6':-1, 'OPN7':1, 'OPN8':1, 'OPN9':1, 'OPN10':1\n",
    "        }"
   ]
  },
  {
   "cell_type": "markdown",
   "metadata": {},
   "source": [
    "Normalización de las respuestas a -1,0,1 e inversión en la respuesta"
   ]
  },
  {
   "cell_type": "code",
   "execution_count": null,
   "metadata": {
    "ExecuteTime": {
     "end_time": "2020-07-19T21:58:50.981667Z",
     "start_time": "2020-07-19T21:58:49.534805Z"
    }
   },
   "outputs": [],
   "source": [
    "for col in cat_quest.keys():\n",
    "    df[col] = (df[col]-3)/2 # Normalización a -1.0.1\n",
    "    df[col] = df[col]*cat_quest[col] # Inversión de la escala"
   ]
  },
  {
   "cell_type": "markdown",
   "metadata": {},
   "source": [
    "Eliminación respuestas con tiempos negativos o menores a 0.5"
   ]
  },
  {
   "cell_type": "code",
   "execution_count": null,
   "metadata": {
    "ExecuteTime": {
     "end_time": "2020-07-19T21:58:51.492668Z",
     "start_time": "2020-07-19T21:58:51.465665Z"
    }
   },
   "outputs": [],
   "source": [
    "# Se seleccionan las preguntas de 1 a 10 de cada sección\n",
    "areas_names = ['EXT', 'EST', 'AGR', 'CSN', 'OPN']\n",
    "col_times = [area + str(i)+'_E' for area in areas_names for i in range(1,11)]"
   ]
  },
  {
   "cell_type": "code",
   "execution_count": null,
   "metadata": {
    "ExecuteTime": {
     "end_time": "2020-07-19T21:59:10.098621Z",
     "start_time": "2020-07-19T21:59:09.316613Z"
    }
   },
   "outputs": [],
   "source": [
    "time_col_quantiles = {}\n",
    "for col in col_times:\n",
    "    time_col_quantiles[col] = df[col].quantile(0.99)"
   ]
  },
  {
   "cell_type": "code",
   "execution_count": null,
   "metadata": {
    "ExecuteTime": {
     "end_time": "2020-07-19T22:01:10.358408Z",
     "start_time": "2020-07-19T22:00:45.797664Z"
    }
   },
   "outputs": [],
   "source": [
    "for col in time_col_quantiles.keys():\n",
    "    df = df.loc[(df[col] <= time_col_quantiles[col]) & # filtrar valores menores a este quantile\n",
    "               (df[col] >= 0.5)] # filtrar valores menores a 0.5 segundos y negativos"
   ]
  },
  {
   "cell_type": "markdown",
   "metadata": {
    "ExecuteTime": {
     "end_time": "2020-07-19T02:19:46.140806Z",
     "start_time": "2020-07-19T02:19:45.435803Z"
    }
   },
   "source": [
    "# PCA"
   ]
  },
  {
   "cell_type": "code",
   "execution_count": null,
   "metadata": {
    "ExecuteTime": {
     "end_time": "2020-07-19T22:01:19.118505Z",
     "start_time": "2020-07-19T22:01:19.110508Z"
    }
   },
   "outputs": [],
   "source": [
    "df.shape"
   ]
  },
  {
   "cell_type": "code",
   "execution_count": null,
   "metadata": {
    "ExecuteTime": {
     "end_time": "2020-07-19T22:01:24.444305Z",
     "start_time": "2020-07-19T22:01:24.316312Z"
    }
   },
   "outputs": [],
   "source": [
    "df_quest = df.loc[:, 'EXT1':'OPN10'].copy()"
   ]
  },
  {
   "cell_type": "code",
   "execution_count": null,
   "metadata": {
    "ExecuteTime": {
     "end_time": "2020-07-19T22:01:24.955302Z",
     "start_time": "2020-07-19T22:01:24.849314Z"
    }
   },
   "outputs": [],
   "source": [
    "df_quest.head()"
   ]
  },
  {
   "cell_type": "markdown",
   "metadata": {},
   "source": [
    "## Función Auxiliar"
   ]
  },
  {
   "cell_type": "code",
   "execution_count": null,
   "metadata": {
    "ExecuteTime": {
     "end_time": "2020-07-19T22:01:26.263429Z",
     "start_time": "2020-07-19T22:01:26.239447Z"
    }
   },
   "outputs": [],
   "source": [
    "def predic_kmeans_plot(dataset, ncluster):\n",
    "    \n",
    "    kmeans = KMeans(n_clusters = ncluster, random_state=1)\n",
    "    kmeans.fit(dataset)\n",
    "    cluster_pred = kmeans.fit_predict(dataset)\n",
    "    \n",
    "    pca = PCA(n_components=dataset.shape[1])\n",
    "    pca_result = pca.fit_transform(dataset)\n",
    "    suma = np.cumsum(pca.explained_variance_ratio_)\n",
    "    pca_data = pca.transform(dataset)\n",
    "    \n",
    "    per_var = np.round(pca.explained_variance_ratio_* 100, decimals=1)\n",
    "    labels = ['PC' + str(x) for x in range(1, len(per_var)+1)]\n",
    "    \n",
    "    pca_df = pd.DataFrame(pca_data, columns=labels)\n",
    "    \n",
    "    pca_df['Cluster'] = cluster_pred\n",
    "    for i in range(0,ncluster):\n",
    "        pca_df.loc[pca_df.Cluster == i,'Cluster'] = 'Cluster {}'.format(i)\n",
    "\n",
    "    fig, ax = plt.subplots()\n",
    "    \n",
    "    sns.scatterplot(pca_df.PC1, pca_df.PC2, hue = pca_df['Cluster'])\n",
    "    \n",
    "    plt.title('ACP aplicado a todos los datos',fontsize=30)\n",
    "    plt.xlabel('PC1 - Var. Exp.: {0}%'.format(per_var[0]),fontsize=25)\n",
    "    plt.ylabel('PC2 - Var. Exp.: {0}%'.format(per_var[1]),fontsize=25)\n",
    "    plt.show()\n",
    "    return pca_df['Cluster']"
   ]
  },
  {
   "cell_type": "code",
   "execution_count": null,
   "metadata": {
    "ExecuteTime": {
     "end_time": "2020-07-19T22:01:26.870428Z",
     "start_time": "2020-07-19T22:01:26.846430Z"
    }
   },
   "outputs": [],
   "source": [
    "def PCA_apply(df):\n",
    "    standard_datos = StandardScaler().fit(df)\n",
    "    datos_norm = standard_datos.transform(df)\n",
    "    pca = PCA(n_components=12)\n",
    "    pca_result = pca.fit_transform(datos_norm)\n",
    "    suma = np.cumsum(pca.explained_variance_ratio_)\n",
    "    pca_data = pca.transform(datos_norm)\n",
    "    \n",
    "    plt.rcParams['figure.figsize'] = (15,8)\n",
    "\n",
    "    per_var = np.round(pca.explained_variance_ratio_* 100, decimals=1)\n",
    "    labels = ['PC' + str(x) for x in range(1, len(per_var)+1)]\n",
    "    \n",
    "    fig, ax = plt.subplots()\n",
    "    pca_df = pd.DataFrame(pca_data, index=df.index, columns=labels)\n",
    "    ax.scatter(pca_df.PC1, pca_df.PC2)\n",
    "    plt.title('ACP aplicado a todos los datos',fontsize=30)\n",
    "    plt.xlabel('PC1 - Var. Exp.: {0}%'.format(per_var[0]),fontsize=25)\n",
    "    plt.ylabel('PC2 - Var. Exp.: {0}%'.format(per_var[1]),fontsize=25)\n",
    "\n",
    "    plt.show()\n",
    "    \n",
    "    fig, ax = plt.subplots()\n",
    "    df_pca_componentes = pd.DataFrame(pca.components_, columns = df.columns).T\n",
    "    \n",
    "    X = list(df_pca_componentes[0])\n",
    "    Y = list(df_pca_componentes[1])\n",
    "    nombres = df_pca_componentes.index\n",
    "    \n",
    "    for i, type in enumerate(nombres):\n",
    "        x = X[i]\n",
    "        y = Y[i]\n",
    "        plt.scatter(x, y , marker = 'o')\n",
    "        plt.text(x,y+0.01,type, fontsize = 17)\n",
    "    \n",
    "    plt.title('Contribución de Variables a Primeras 2 Componentes',fontsize=30)\n",
    "    plt.xlabel('PC1 - Var. Exp.: {0}%'.format(per_var[0]),fontsize=25)\n",
    "    plt.ylabel('PC2 - Var. Exp.: {0}%'.format(per_var[1]),fontsize=25)\n",
    "\n",
    "    plt.axhline(y = 0, alpha = 1)\n",
    "    plt.axvline(x = 0, alpha = 1)\n",
    "    plt.rcParams['figure.figsize'] = (15,8)\n",
    "\n",
    "    plt.tight_layout()\n",
    "    plt.show()\n",
    "    return pca"
   ]
  },
  {
   "cell_type": "code",
   "execution_count": null,
   "metadata": {
    "ExecuteTime": {
     "end_time": "2020-07-19T02:26:52.399171Z",
     "start_time": "2020-07-19T02:26:31.649385Z"
    }
   },
   "outputs": [],
   "source": [
    "#pca_quest = PCA_apply(df_quest)"
   ]
  },
  {
   "cell_type": "markdown",
   "metadata": {},
   "source": [
    "## Kmeans a respuestas"
   ]
  },
  {
   "cell_type": "code",
   "execution_count": null,
   "metadata": {
    "ExecuteTime": {
     "end_time": "2020-07-19T22:06:27.044862Z",
     "start_time": "2020-07-19T22:01:38.695123Z"
    }
   },
   "outputs": [],
   "source": [
    "cluster_kmeans = predic_kmeans_plot(df_quest, 5)"
   ]
  },
  {
   "cell_type": "markdown",
   "metadata": {},
   "source": [
    "## Kmeans a tiempos de respuestas"
   ]
  },
  {
   "cell_type": "code",
   "execution_count": null,
   "metadata": {
    "ExecuteTime": {
     "end_time": "2020-07-19T22:10:47.807473Z",
     "start_time": "2020-07-19T22:06:27.448864Z"
    }
   },
   "outputs": [],
   "source": [
    "col_times_2_10 = [area + str(i)+'_E' for area in areas_names for i in range(2,11)]\n",
    "cluster_kmeans_tiempos = predic_kmeans_plot(df[col_times_2_10], 5)"
   ]
  },
  {
   "cell_type": "code",
   "execution_count": null,
   "metadata": {},
   "outputs": [],
   "source": []
  }
 ],
 "metadata": {
  "kernelspec": {
   "display_name": "Python 3",
   "language": "python",
   "name": "python3"
  },
  "language_info": {
   "codemirror_mode": {
    "name": "ipython",
    "version": 3
   },
   "file_extension": ".py",
   "mimetype": "text/x-python",
   "name": "python",
   "nbconvert_exporter": "python",
   "pygments_lexer": "ipython3",
   "version": "3.7.6"
  },
  "toc": {
   "base_numbering": 1,
   "nav_menu": {},
   "number_sections": true,
   "sideBar": true,
   "skip_h1_title": false,
   "title_cell": "Table of Contents",
   "title_sidebar": "Contents",
   "toc_cell": false,
   "toc_position": {
    "height": "calc(100% - 180px)",
    "left": "10px",
    "top": "150px",
    "width": "239.306px"
   },
   "toc_section_display": true,
   "toc_window_display": true
  },
  "varInspector": {
   "cols": {
    "lenName": 16,
    "lenType": 16,
    "lenVar": 40
   },
   "kernels_config": {
    "python": {
     "delete_cmd_postfix": "",
     "delete_cmd_prefix": "del ",
     "library": "var_list.py",
     "varRefreshCmd": "print(var_dic_list())"
    },
    "r": {
     "delete_cmd_postfix": ") ",
     "delete_cmd_prefix": "rm(",
     "library": "var_list.r",
     "varRefreshCmd": "cat(var_dic_list()) "
    }
   },
   "types_to_exclude": [
    "module",
    "function",
    "builtin_function_or_method",
    "instance",
    "_Feature"
   ],
   "window_display": false
  }
 },
 "nbformat": 4,
 "nbformat_minor": 4
}
